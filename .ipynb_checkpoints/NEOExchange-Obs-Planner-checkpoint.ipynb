{
 "cells": [
  {
   "cell_type": "markdown",
   "metadata": {},
   "source": [
    "# NEOExchange Observations Planner\n",
    "**Developer:** Aayushi Verma\n",
    "\n",
    "**Aim**: this code outputs an object visibility chart, similar to StarAlt (http://catserver.ing.iac.es/staralt/).\n",
    "\n",
    "This code is optimised for NEOExchange objects (https://neoexchange.lco.global/), however can be used for any astronomical object at any observatory."
   ]
  },
  {
   "cell_type": "code",
   "execution_count": 1,
   "metadata": {},
   "outputs": [],
   "source": [
    "#importing useful packages\n",
    "import numpy as np\n",
    "import matplotlib.pyplot as plt\n",
    "#---\n",
    "from astropy import units as u\n",
    "from astropy.time import Time\n",
    "from astropy.coordinates import get_sun, SkyCoord, EarthLocation, AltAz\n",
    "#---\n",
    "from astroplan import Observer, FixedTarget, AltitudeConstraint, AirmassConstraint, AtNightConstraint, is_observable, is_always_observable, months_observable\n",
    "#---\n",
    "import pytz"
   ]
  },
  {
   "cell_type": "markdown",
   "metadata": {},
   "source": [
    "## 1. Input your observation session parameters here."
   ]
  },
  {
   "cell_type": "markdown",
   "metadata": {},
   "source": [
    "First, enter observation time parameters."
   ]
  },
  {
   "cell_type": "code",
   "execution_count": 5,
   "metadata": {},
   "outputs": [],
   "source": [
    "# specify the timezone\n",
    "utc_offset = +13 * u.hour  # New Zealand Daylight Savings Time\n",
    "\n",
    "# define observation dates to show on object visibility plot\n",
    "obs_dates = '2020-12-28 - 2020-12-29'\n",
    "\n",
    "# defining the time range of the observation period\n",
    "obs_start_time = Time('2020-12-28 22:00:00') - utc_offset\n",
    "obs_end_time = Time('2020-12-29 06:00:00') - utc_offset\n",
    "midnight = Time('2020-12-29 00:00:00') - utc_offset"
   ]
  },
  {
   "cell_type": "markdown",
   "metadata": {},
   "source": [
    "Next, input your list of targets. \n",
    "1. Enter the display name of the object: 'my obj_name'\n",
    "2. Enter the RA/DEC of the object, seperated by spaces: 'HH MM SS.SS +/-DD MM SS.SS'\n",
    "\n",
    "For NEOExchange objects, the RA/Dec in this specific formatting can simply be copy/pasted from the object's ephemeris when generated on the website (https://neoexchange.lco.global/)."
   ]
  },
  {
   "cell_type": "code",
   "execution_count": 2,
   "metadata": {},
   "outputs": [],
   "source": [
    "# array of targets and their RA/Dec\n",
    "my_targets = [['C2018_F4','01 14 05.30 -25 21 56.0'],\n",
    "              ['C2020_R7','03 06 54.85 -50 04 05.9'],\n",
    "              ['P2020_V3','05 23 38.47 -01 30 20.5'],\n",
    "              ['P2020_V4','05 03 10.15 +08 19 35.6'],\n",
    "              ['P2020_W1','03 04 13.57 +05 13 49.1']]"
   ]
  },
  {
   "cell_type": "markdown",
   "metadata": {},
   "source": [
    "Here, define the observation location parameters. Edit the latitude, longitude and elevation for your observatory."
   ]
  },
  {
   "cell_type": "code",
   "execution_count": 3,
   "metadata": {},
   "outputs": [],
   "source": [
    "# defining the observing location parameters\n",
    "latitude = -43.29 * u.deg\n",
    "longitude = 170.27 * u.deg\n",
    "elevation = 1029 * u.m"
   ]
  },
  {
   "cell_type": "code",
   "execution_count": 4,
   "metadata": {},
   "outputs": [],
   "source": [
    "# defining the limiting altitude of the telescope, i.e. the minimum altitude possible.\n",
    "lim_alt = 30 #degrees"
   ]
  },
  {
   "cell_type": "markdown",
   "metadata": {},
   "source": [
    "## 2. The following code will provide useful information for your observation session.\n",
    "\n",
    "Run the code, no need to change anything."
   ]
  },
  {
   "cell_type": "code",
   "execution_count": 6,
   "metadata": {},
   "outputs": [],
   "source": [
    "# Specify the location of your observatory:\n",
    "obs_location = EarthLocation.from_geodetic(longitude, latitude, elevation)\n",
    "\n",
    "# Make an observer at your observatory:\n",
    "observatory = Observer(location=obs_location)\n",
    "\n",
    "# making time range of osbervation period\n",
    "obs_time_range = Time([obs_start_time, obs_end_time])"
   ]
  },
  {
   "cell_type": "code",
   "execution_count": 7,
   "metadata": {},
   "outputs": [],
   "source": [
    "# making a list of Fixed Targets and SkyCoords for later calculation purposes\n",
    "targets_lst = []\n",
    "skycoord_targets_lst = []\n",
    "\n",
    "for my_target in my_targets:\n",
    "    fixed_target = FixedTarget(coord=SkyCoord(my_target[1], unit=(u.hourangle, u.deg)), name=my_target[0])\n",
    "    targets_lst.append(fixed_target)\n",
    "    skycoord_target = SkyCoord(my_target[1], unit=(u.hourangle, u.deg))\n",
    "    skycoord_targets_lst.append(skycoord_target)"
   ]
  },
  {
   "cell_type": "code",
   "execution_count": 8,
   "metadata": {},
   "outputs": [
    {
     "name": "stderr",
     "output_type": "stream",
     "text": [
      "WARNING: failed to download ftp://cddis.gsfc.nasa.gov/pub/products/iers/finals2000A.all and https://datacenter.iers.org/data/9/finals2000A.all, using local IERS-B: <urlopen error Unable to open any source! Exceptions were {'ftp://cddis.gsfc.nasa.gov/pub/products/iers/finals2000A.all': URLError(\"ftp error: timeout('timed out')\"), 'https://datacenter.iers.org/data/9/finals2000A.all': URLError(SSLCertVerificationError(1, '[SSL: CERTIFICATE_VERIFY_FAILED] certificate verify failed: self signed certificate in certificate chain (_ssl.c:1076)'))}> [astropy.utils.iers.iers]\n",
      "WARNING: Tried to get polar motions for times after IERS data is valid. Defaulting to polar motion from the 50-yr mean for those. This may affect precision at the 10s of arcsec level [astropy.coordinates.builtin_frames.utils]\n",
      "WARNING: (some) times are outside of range covered by IERS table. Assuming UT1-UTC=0 for coordinate transformations. [astropy.coordinates.builtin_frames.utils]\n",
      "WARNING: OldEarthOrientationDataWarning: For best precision (on the order of arcseconds), you must download an up-to-date IERS Bulletin A table. To do so, run:\n",
      "\n",
      ">>> from astroplan import download_IERS_A\n",
      ">>> download_IERS_A()\n",
      " [astroplan.utils]\n"
     ]
    }
   ],
   "source": [
    "# defining midnight for calculation purposes\n",
    "delta_midnight = np.linspace(-2, 7, 100)*u.hour\n",
    "\n",
    "# calculations of altitude/azimuths of object\n",
    "target_altaz =[]\n",
    "target_altazs=[]\n",
    "\n",
    "for a_target in skycoord_targets_lst:\n",
    "    target_altaz.append(a_target.transform_to(AltAz(obstime=obs_start_time,location=obs_location)))\n",
    "    target_altazs.append(a_target.transform_to(AltAz(obstime=midnight+delta_midnight, location=obs_location)))\n",
    "\n",
    "# calculations for plotting purposes\n",
    "delta_midnight = np.linspace(-12, 12, 1000)*u.hour\n",
    "times = midnight + delta_midnight\n",
    "altazframe = AltAz(obstime=times, location=obs_location)\n",
    "sunaltazs = get_sun(times).transform_to(altazframe)\n",
    "\n",
    "target_altazs = []\n",
    "for target in skycoord_targets_lst:\n",
    "    target_altazs.append(target.transform_to(altazframe))"
   ]
  },
  {
   "cell_type": "markdown",
   "metadata": {},
   "source": [
    "## 3. Object Visibility Plot!\n",
    "\n",
    "Run the code to obtain your object visibility plot."
   ]
  },
  {
   "cell_type": "code",
   "execution_count": 9,
   "metadata": {},
   "outputs": [
    {
     "data": {
      "image/png": "[encoded data removed]",
      "text/plain": [
       "<Figure size 432x288 with 1 Axes>"
      ]
     },
     "metadata": {
      "needs_background": "light"
     },
     "output_type": "display_data"
    }
   ],
   "source": [
    "# making a zero-line for the limiting alitude of your telescope\n",
    "zeroLine_x1=np.arange(-12,90,10)\n",
    "zeroLine_y1=np.full(len(zeroLine_x1),lim_alt)\n",
    "\n",
    "# plotting the alitudes of the objects\n",
    "for i in range(len(target_altazs)):  \n",
    "    plt.scatter(delta_midnight, target_altazs[i].alt, label='{}'.format(my_targets[i][0]), lw=0, s=8) \n",
    "\n",
    "plt.plot(zeroLine_x1,zeroLine_y1,\"-\",color=\"red\",label=\"limiting altitude\")\n",
    "\n",
    "# defining twilight/nighttimes\n",
    "plt.fill_between(delta_midnight, 0, 90, sunaltazs.alt < -0*u.deg, color='0.5', zorder=0)  \n",
    "plt.fill_between(delta_midnight, 0, 90, sunaltazs.alt < -18*u.deg, color='k', zorder=0)  \n",
    "\n",
    "plt.legend()\n",
    "plt.xlim(-4, 8)          #can change this as appropriate\n",
    "plt.ylim(lim_alt-5, 90)  #could range from 0-90 degrees\n",
    "plt.xlabel('Hours from Midnight')  \n",
    "plt.ylabel('Altitude [deg]')  \n",
    "plt.title(\"Object Visibility on {}\".format(obs_dates))\n",
    "plt.grid()\n",
    "plt.show()"
   ]
  }
 ],
 "metadata": {
  "kernelspec": {
   "display_name": "Python 3",
   "language": "python",
   "name": "python3"
  },
  "language_info": {
   "codemirror_mode": {
    "name": "ipython",
    "version": 3
   },
   "file_extension": ".py",
   "mimetype": "text/x-python",
   "name": "python",
   "nbconvert_exporter": "python",
   "pygments_lexer": "ipython3",
   "version": "3.7.6"
  }
 },
 "nbformat": 4,
 "nbformat_minor": 4
}
